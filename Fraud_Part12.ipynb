{
 "cells": [
  {
   "cell_type": "markdown",
   "metadata": {},
   "source": [
    "## FRAUD DETECTION USING MACHINE LEARNING CLASSIFICATION ALGORITHMS"
   ]
  },
  {
   "cell_type": "markdown",
   "metadata": {},
   "source": [
    "# Seps to build a model to detect fraud\n",
    "1. Define the problem\n",
    "2. Outline the Methods to detect fraud--(classification method in this case)\n",
    "1. read the data -- pd.read_csv()\n",
    "2. examine the first 5 records -- df.head(5)\n",
    "3. examine the information about the variables (datatypes, No of variables..)  --df.info\n",
    "4. Examine Missing values and analyze the variables with more than 10% missing values\n",
    "5. Examine the summary statistics about the variables\n",
    "6. Examine the distribution of the response variable to understand if there is an imbalance about the classes\n",
    "7. Examine the distribution of the response variable using scatter plot\n",
    "8. Examine the summary statistics if some variables need to be normalized\n",
    "9. Perform frequency distribution table for categorical variables\n",
    "10. Check for outliers for the numeric features\n",
    "11. Examine the relationship between features\n",
    "12. Deal with an imbalanced dataset\n",
    "13. Fit Logistic regression, random forest model using scikit-learn. \n",
    "    a. import the model from the ensemble package.\n",
    "    b. Split the balanced dataset into training and test data\n",
    "    c. Define the model. \n",
    "    d. Fit the model to the training datasetset. \n",
    "    e. Obtain model predictions by running it on the test set.\n",
    "    f. perform a measure of performance, Use accuracy, by comparing the predictions to the actual labels under y_test.\n"
   ]
  },
  {
   "cell_type": "code",
   "execution_count": 195,
   "metadata": {},
   "outputs": [],
   "source": [
    "import warnings\n",
    "from sklearn.exceptions import ConvergenceWarning\n",
    "warnings.filterwarnings(\"ignore\", category=ConvergenceWarning)"
   ]
  },
  {
   "cell_type": "code",
   "execution_count": 196,
   "metadata": {},
   "outputs": [],
   "source": [
    "# Import pandas and read csv\n",
    "import pandas as pd\n",
    "import numpy as np\n",
    "import matplotlib.pyplot as plt\n",
    "#import seaborn as sns\n",
    "df = pd.read_csv(\"C:/Fraud Detection/creditcard_sampledata_1.csv\")"
   ]
  },
  {
   "cell_type": "code",
   "execution_count": 197,
   "metadata": {},
   "outputs": [
    {
     "data": {
      "text/html": [
       "<div>\n",
       "<style scoped>\n",
       "    .dataframe tbody tr th:only-of-type {\n",
       "        vertical-align: middle;\n",
       "    }\n",
       "\n",
       "    .dataframe tbody tr th {\n",
       "        vertical-align: top;\n",
       "    }\n",
       "\n",
       "    .dataframe thead th {\n",
       "        text-align: right;\n",
       "    }\n",
       "</style>\n",
       "<table border=\"1\" class=\"dataframe\">\n",
       "  <thead>\n",
       "    <tr style=\"text-align: right;\">\n",
       "      <th></th>\n",
       "      <th>Unnamed: 0</th>\n",
       "      <th>V1</th>\n",
       "      <th>V2</th>\n",
       "      <th>V3</th>\n",
       "      <th>V4</th>\n",
       "      <th>V5</th>\n",
       "      <th>V6</th>\n",
       "      <th>V7</th>\n",
       "      <th>V8</th>\n",
       "      <th>V9</th>\n",
       "      <th>...</th>\n",
       "      <th>V21</th>\n",
       "      <th>V22</th>\n",
       "      <th>V23</th>\n",
       "      <th>V24</th>\n",
       "      <th>V25</th>\n",
       "      <th>V26</th>\n",
       "      <th>V27</th>\n",
       "      <th>V28</th>\n",
       "      <th>Amount</th>\n",
       "      <th>Class</th>\n",
       "    </tr>\n",
       "  </thead>\n",
       "  <tbody>\n",
       "    <tr>\n",
       "      <th>0</th>\n",
       "      <td>258647</td>\n",
       "      <td>1.725265</td>\n",
       "      <td>-1.337256</td>\n",
       "      <td>-1.012687</td>\n",
       "      <td>-0.361656</td>\n",
       "      <td>-1.431611</td>\n",
       "      <td>-1.098681</td>\n",
       "      <td>-0.842274</td>\n",
       "      <td>-0.026594</td>\n",
       "      <td>-0.032409</td>\n",
       "      <td>...</td>\n",
       "      <td>0.414524</td>\n",
       "      <td>0.793434</td>\n",
       "      <td>0.028887</td>\n",
       "      <td>0.419421</td>\n",
       "      <td>-0.367529</td>\n",
       "      <td>-0.155634</td>\n",
       "      <td>-0.015768</td>\n",
       "      <td>0.010790</td>\n",
       "      <td>189.00</td>\n",
       "      <td>0</td>\n",
       "    </tr>\n",
       "    <tr>\n",
       "      <th>1</th>\n",
       "      <td>69263</td>\n",
       "      <td>0.683254</td>\n",
       "      <td>-1.681875</td>\n",
       "      <td>0.533349</td>\n",
       "      <td>-0.326064</td>\n",
       "      <td>-1.455603</td>\n",
       "      <td>0.101832</td>\n",
       "      <td>-0.520590</td>\n",
       "      <td>0.114036</td>\n",
       "      <td>-0.601760</td>\n",
       "      <td>...</td>\n",
       "      <td>0.116898</td>\n",
       "      <td>-0.304605</td>\n",
       "      <td>-0.125547</td>\n",
       "      <td>0.244848</td>\n",
       "      <td>0.069163</td>\n",
       "      <td>-0.460712</td>\n",
       "      <td>-0.017068</td>\n",
       "      <td>0.063542</td>\n",
       "      <td>315.17</td>\n",
       "      <td>0</td>\n",
       "    </tr>\n",
       "    <tr>\n",
       "      <th>2</th>\n",
       "      <td>96552</td>\n",
       "      <td>1.067973</td>\n",
       "      <td>-0.656667</td>\n",
       "      <td>1.029738</td>\n",
       "      <td>0.253899</td>\n",
       "      <td>-1.172715</td>\n",
       "      <td>0.073232</td>\n",
       "      <td>-0.745771</td>\n",
       "      <td>0.249803</td>\n",
       "      <td>1.383057</td>\n",
       "      <td>...</td>\n",
       "      <td>-0.189315</td>\n",
       "      <td>-0.426743</td>\n",
       "      <td>0.079539</td>\n",
       "      <td>0.129692</td>\n",
       "      <td>0.002778</td>\n",
       "      <td>0.970498</td>\n",
       "      <td>-0.035056</td>\n",
       "      <td>0.017313</td>\n",
       "      <td>59.98</td>\n",
       "      <td>0</td>\n",
       "    </tr>\n",
       "    <tr>\n",
       "      <th>3</th>\n",
       "      <td>281898</td>\n",
       "      <td>0.119513</td>\n",
       "      <td>0.729275</td>\n",
       "      <td>-1.678879</td>\n",
       "      <td>-1.551408</td>\n",
       "      <td>3.128914</td>\n",
       "      <td>3.210632</td>\n",
       "      <td>0.356276</td>\n",
       "      <td>0.920374</td>\n",
       "      <td>-0.160589</td>\n",
       "      <td>...</td>\n",
       "      <td>-0.335825</td>\n",
       "      <td>-0.906171</td>\n",
       "      <td>0.108350</td>\n",
       "      <td>0.593062</td>\n",
       "      <td>-0.424303</td>\n",
       "      <td>0.164201</td>\n",
       "      <td>0.245881</td>\n",
       "      <td>0.071029</td>\n",
       "      <td>0.89</td>\n",
       "      <td>0</td>\n",
       "    </tr>\n",
       "    <tr>\n",
       "      <th>4</th>\n",
       "      <td>86917</td>\n",
       "      <td>1.271253</td>\n",
       "      <td>0.275694</td>\n",
       "      <td>0.159568</td>\n",
       "      <td>1.003096</td>\n",
       "      <td>-0.128535</td>\n",
       "      <td>-0.608730</td>\n",
       "      <td>0.088777</td>\n",
       "      <td>-0.145336</td>\n",
       "      <td>0.156047</td>\n",
       "      <td>...</td>\n",
       "      <td>0.031958</td>\n",
       "      <td>0.123503</td>\n",
       "      <td>-0.174528</td>\n",
       "      <td>-0.147535</td>\n",
       "      <td>0.735909</td>\n",
       "      <td>-0.262270</td>\n",
       "      <td>0.015577</td>\n",
       "      <td>0.015955</td>\n",
       "      <td>6.53</td>\n",
       "      <td>0</td>\n",
       "    </tr>\n",
       "  </tbody>\n",
       "</table>\n",
       "<p>5 rows × 31 columns</p>\n",
       "</div>"
      ],
      "text/plain": [
       "   Unnamed: 0        V1        V2        V3        V4        V5        V6  \\\n",
       "0      258647  1.725265 -1.337256 -1.012687 -0.361656 -1.431611 -1.098681   \n",
       "1       69263  0.683254 -1.681875  0.533349 -0.326064 -1.455603  0.101832   \n",
       "2       96552  1.067973 -0.656667  1.029738  0.253899 -1.172715  0.073232   \n",
       "3      281898  0.119513  0.729275 -1.678879 -1.551408  3.128914  3.210632   \n",
       "4       86917  1.271253  0.275694  0.159568  1.003096 -0.128535 -0.608730   \n",
       "\n",
       "         V7        V8        V9  ...       V21       V22       V23       V24  \\\n",
       "0 -0.842274 -0.026594 -0.032409  ...  0.414524  0.793434  0.028887  0.419421   \n",
       "1 -0.520590  0.114036 -0.601760  ...  0.116898 -0.304605 -0.125547  0.244848   \n",
       "2 -0.745771  0.249803  1.383057  ... -0.189315 -0.426743  0.079539  0.129692   \n",
       "3  0.356276  0.920374 -0.160589  ... -0.335825 -0.906171  0.108350  0.593062   \n",
       "4  0.088777 -0.145336  0.156047  ...  0.031958  0.123503 -0.174528 -0.147535   \n",
       "\n",
       "        V25       V26       V27       V28  Amount  Class  \n",
       "0 -0.367529 -0.155634 -0.015768  0.010790  189.00      0  \n",
       "1  0.069163 -0.460712 -0.017068  0.063542  315.17      0  \n",
       "2  0.002778  0.970498 -0.035056  0.017313   59.98      0  \n",
       "3 -0.424303  0.164201  0.245881  0.071029    0.89      0  \n",
       "4  0.735909 -0.262270  0.015577  0.015955    6.53      0  \n",
       "\n",
       "[5 rows x 31 columns]"
      ]
     },
     "execution_count": 197,
     "metadata": {},
     "output_type": "execute_result"
    }
   ],
   "source": [
    "df.head(5)"
   ]
  },
  {
   "cell_type": "code",
   "execution_count": 198,
   "metadata": {},
   "outputs": [
    {
     "data": {
      "text/plain": [
       "(5050, 31)"
      ]
     },
     "execution_count": 198,
     "metadata": {},
     "output_type": "execute_result"
    }
   ],
   "source": [
    "df.shape"
   ]
  },
  {
   "cell_type": "markdown",
   "metadata": {},
   "source": [
    "### Removing variables which are not useful for the Fraud analysis"
   ]
  },
  {
   "cell_type": "code",
   "execution_count": 199,
   "metadata": {},
   "outputs": [],
   "source": [
    "#df.drop(columns=['Unnamed: 0','Time'],inplace=True)\n",
    "df.drop(columns=['Unnamed: 0'],inplace=True)"
   ]
  },
  {
   "cell_type": "code",
   "execution_count": 200,
   "metadata": {},
   "outputs": [
    {
     "name": "stdout",
     "output_type": "stream",
     "text": [
      "<class 'pandas.core.frame.DataFrame'>\n",
      "RangeIndex: 5050 entries, 0 to 5049\n",
      "Data columns (total 30 columns):\n",
      " #   Column  Non-Null Count  Dtype  \n",
      "---  ------  --------------  -----  \n",
      " 0   V1      5050 non-null   float64\n",
      " 1   V2      5050 non-null   float64\n",
      " 2   V3      5050 non-null   float64\n",
      " 3   V4      5050 non-null   float64\n",
      " 4   V5      5050 non-null   float64\n",
      " 5   V6      5050 non-null   float64\n",
      " 6   V7      5050 non-null   float64\n",
      " 7   V8      5050 non-null   float64\n",
      " 8   V9      5050 non-null   float64\n",
      " 9   V10     5050 non-null   float64\n",
      " 10  V11     5050 non-null   float64\n",
      " 11  V12     5050 non-null   float64\n",
      " 12  V13     5050 non-null   float64\n",
      " 13  V14     5050 non-null   float64\n",
      " 14  V15     5050 non-null   float64\n",
      " 15  V16     5050 non-null   float64\n",
      " 16  V17     5050 non-null   float64\n",
      " 17  V18     5050 non-null   float64\n",
      " 18  V19     5050 non-null   float64\n",
      " 19  V20     5050 non-null   float64\n",
      " 20  V21     5050 non-null   float64\n",
      " 21  V22     5050 non-null   float64\n",
      " 22  V23     5050 non-null   float64\n",
      " 23  V24     5050 non-null   float64\n",
      " 24  V25     5050 non-null   float64\n",
      " 25  V26     5050 non-null   float64\n",
      " 26  V27     5050 non-null   float64\n",
      " 27  V28     5050 non-null   float64\n",
      " 28  Amount  5050 non-null   float64\n",
      " 29  Class   5050 non-null   int64  \n",
      "dtypes: float64(29), int64(1)\n",
      "memory usage: 1.2 MB\n"
     ]
    }
   ],
   "source": [
    "## Examining the variables\n",
    "df.info()"
   ]
  },
  {
   "cell_type": "markdown",
   "metadata": {},
   "source": [
    "### Investigating missing values"
   ]
  },
  {
   "cell_type": "code",
   "execution_count": 201,
   "metadata": {},
   "outputs": [
    {
     "data": {
      "text/plain": [
       "V1        0\n",
       "V2        0\n",
       "Amount    0\n",
       "V28       0\n",
       "V27       0\n",
       "dtype: int64"
      ]
     },
     "execution_count": 201,
     "metadata": {},
     "output_type": "execute_result"
    }
   ],
   "source": [
    "df.isna().sum().sort_values(ascending=False).head(5)"
   ]
  },
  {
   "cell_type": "markdown",
   "metadata": {},
   "source": [
    "### Examining the distribution of Response variable(\"Class\") to inspect if there is an imbalance in the Class feature"
   ]
  },
  {
   "cell_type": "code",
   "execution_count": 202,
   "metadata": {},
   "outputs": [
    {
     "name": "stdout",
     "output_type": "stream",
     "text": [
      "0    0.990099\n",
      "1    0.009901\n",
      "Name: Class, dtype: float64\n"
     ]
    }
   ],
   "source": [
    "# Fraud and Legit ratios vs total observation\n",
    "print(df['Class'].value_counts() / df['Class'].count())"
   ]
  },
  {
   "cell_type": "code",
   "execution_count": 203,
   "metadata": {},
   "outputs": [
    {
     "data": {
      "text/plain": [
       "<matplotlib.legend.Legend at 0x239cb9353a0>"
      ]
     },
     "execution_count": 203,
     "metadata": {},
     "output_type": "execute_result"
    },
    {
     "data": {
      "image/png": "[encoded data removed]",
      "text/plain": [
       "<Figure size 640x480 with 1 Axes>"
      ]
     },
     "metadata": {},
     "output_type": "display_data"
    }
   ],
   "source": [
    "plt.scatter(df.V1.where(df.Class==0),df.V2.where(df.Class==0), label='Legit',color='g') ## ploting V1 vs V2 for legit transactions\n",
    "plt.scatter(df.V1.where(df.Class==1),df.V2.where(df.Class==1), label='Fraud',color='r') #ploting V1 vs V2 for fraud transactions\n",
    "plt.legend()"
   ]
  },
  {
   "cell_type": "markdown",
   "metadata": {},
   "source": [
    "## We can see that there is an imbalance in the Response(Class feature). We need to fix the issue before we fit a model"
   ]
  },
  {
   "cell_type": "markdown",
   "metadata": {},
   "source": [
    "### Descriptive Statistics"
   ]
  },
  {
   "cell_type": "code",
   "execution_count": 204,
   "metadata": {},
   "outputs": [
    {
     "data": {
      "text/html": [
       "<div>\n",
       "<style scoped>\n",
       "    .dataframe tbody tr th:only-of-type {\n",
       "        vertical-align: middle;\n",
       "    }\n",
       "\n",
       "    .dataframe tbody tr th {\n",
       "        vertical-align: top;\n",
       "    }\n",
       "\n",
       "    .dataframe thead th {\n",
       "        text-align: right;\n",
       "    }\n",
       "</style>\n",
       "<table border=\"1\" class=\"dataframe\">\n",
       "  <thead>\n",
       "    <tr style=\"text-align: right;\">\n",
       "      <th></th>\n",
       "      <th>V1</th>\n",
       "      <th>V2</th>\n",
       "      <th>V3</th>\n",
       "      <th>V4</th>\n",
       "      <th>V5</th>\n",
       "      <th>V6</th>\n",
       "      <th>V7</th>\n",
       "      <th>V8</th>\n",
       "      <th>V9</th>\n",
       "      <th>V10</th>\n",
       "      <th>...</th>\n",
       "      <th>V21</th>\n",
       "      <th>V22</th>\n",
       "      <th>V23</th>\n",
       "      <th>V24</th>\n",
       "      <th>V25</th>\n",
       "      <th>V26</th>\n",
       "      <th>V27</th>\n",
       "      <th>V28</th>\n",
       "      <th>Amount</th>\n",
       "      <th>Class</th>\n",
       "    </tr>\n",
       "  </thead>\n",
       "  <tbody>\n",
       "    <tr>\n",
       "      <th>count</th>\n",
       "      <td>5050.000000</td>\n",
       "      <td>5050.000000</td>\n",
       "      <td>5050.000000</td>\n",
       "      <td>5050.000000</td>\n",
       "      <td>5050.000000</td>\n",
       "      <td>5050.000000</td>\n",
       "      <td>5050.000000</td>\n",
       "      <td>5050.000000</td>\n",
       "      <td>5050.000000</td>\n",
       "      <td>5050.000000</td>\n",
       "      <td>...</td>\n",
       "      <td>5050.000000</td>\n",
       "      <td>5050.000000</td>\n",
       "      <td>5050.000000</td>\n",
       "      <td>5050.000000</td>\n",
       "      <td>5050.000000</td>\n",
       "      <td>5050.000000</td>\n",
       "      <td>5050.000000</td>\n",
       "      <td>5050.000000</td>\n",
       "      <td>5050.000000</td>\n",
       "      <td>5050.000000</td>\n",
       "    </tr>\n",
       "    <tr>\n",
       "      <th>mean</th>\n",
       "      <td>-0.014675</td>\n",
       "      <td>0.044325</td>\n",
       "      <td>-0.035144</td>\n",
       "      <td>0.002494</td>\n",
       "      <td>-0.046625</td>\n",
       "      <td>-0.046340</td>\n",
       "      <td>-0.043020</td>\n",
       "      <td>-0.008398</td>\n",
       "      <td>-0.027331</td>\n",
       "      <td>-0.056943</td>\n",
       "      <td>...</td>\n",
       "      <td>-0.003516</td>\n",
       "      <td>-0.009421</td>\n",
       "      <td>-0.004147</td>\n",
       "      <td>-0.001200</td>\n",
       "      <td>-0.003314</td>\n",
       "      <td>-0.004836</td>\n",
       "      <td>-0.005726</td>\n",
       "      <td>0.002482</td>\n",
       "      <td>86.117232</td>\n",
       "      <td>0.009901</td>\n",
       "    </tr>\n",
       "    <tr>\n",
       "      <th>std</th>\n",
       "      <td>1.952784</td>\n",
       "      <td>1.558235</td>\n",
       "      <td>1.691458</td>\n",
       "      <td>1.493592</td>\n",
       "      <td>1.321320</td>\n",
       "      <td>1.254301</td>\n",
       "      <td>1.338170</td>\n",
       "      <td>1.323247</td>\n",
       "      <td>1.134506</td>\n",
       "      <td>1.278092</td>\n",
       "      <td>...</td>\n",
       "      <td>0.756735</td>\n",
       "      <td>0.724749</td>\n",
       "      <td>0.601276</td>\n",
       "      <td>0.599400</td>\n",
       "      <td>0.517363</td>\n",
       "      <td>0.481913</td>\n",
       "      <td>0.411055</td>\n",
       "      <td>0.302719</td>\n",
       "      <td>227.210259</td>\n",
       "      <td>0.099020</td>\n",
       "    </tr>\n",
       "    <tr>\n",
       "      <th>min</th>\n",
       "      <td>-25.266355</td>\n",
       "      <td>-18.701995</td>\n",
       "      <td>-26.823673</td>\n",
       "      <td>-4.575708</td>\n",
       "      <td>-18.664251</td>\n",
       "      <td>-6.357009</td>\n",
       "      <td>-23.783470</td>\n",
       "      <td>-41.484823</td>\n",
       "      <td>-8.504285</td>\n",
       "      <td>-17.141514</td>\n",
       "      <td>...</td>\n",
       "      <td>-20.262054</td>\n",
       "      <td>-5.532541</td>\n",
       "      <td>-17.026156</td>\n",
       "      <td>-2.307453</td>\n",
       "      <td>-3.308049</td>\n",
       "      <td>-1.715640</td>\n",
       "      <td>-7.976100</td>\n",
       "      <td>-5.048979</td>\n",
       "      <td>0.000000</td>\n",
       "      <td>0.000000</td>\n",
       "    </tr>\n",
       "    <tr>\n",
       "      <th>25%</th>\n",
       "      <td>-0.926226</td>\n",
       "      <td>-0.589562</td>\n",
       "      <td>-0.873696</td>\n",
       "      <td>-0.871759</td>\n",
       "      <td>-0.733235</td>\n",
       "      <td>-0.777552</td>\n",
       "      <td>-0.571678</td>\n",
       "      <td>-0.211263</td>\n",
       "      <td>-0.651215</td>\n",
       "      <td>-0.541561</td>\n",
       "      <td>...</td>\n",
       "      <td>-0.231508</td>\n",
       "      <td>-0.558904</td>\n",
       "      <td>-0.161166</td>\n",
       "      <td>-0.354973</td>\n",
       "      <td>-0.316947</td>\n",
       "      <td>-0.331584</td>\n",
       "      <td>-0.070963</td>\n",
       "      <td>-0.052133</td>\n",
       "      <td>4.990000</td>\n",
       "      <td>0.000000</td>\n",
       "    </tr>\n",
       "    <tr>\n",
       "      <th>50%</th>\n",
       "      <td>0.009592</td>\n",
       "      <td>0.088726</td>\n",
       "      <td>0.168377</td>\n",
       "      <td>-0.027034</td>\n",
       "      <td>-0.060932</td>\n",
       "      <td>-0.304225</td>\n",
       "      <td>0.036753</td>\n",
       "      <td>0.000985</td>\n",
       "      <td>-0.052724</td>\n",
       "      <td>-0.109888</td>\n",
       "      <td>...</td>\n",
       "      <td>-0.035204</td>\n",
       "      <td>-0.013332</td>\n",
       "      <td>-0.011305</td>\n",
       "      <td>0.038272</td>\n",
       "      <td>0.019200</td>\n",
       "      <td>-0.059882</td>\n",
       "      <td>0.003521</td>\n",
       "      <td>0.012842</td>\n",
       "      <td>20.260000</td>\n",
       "      <td>0.000000</td>\n",
       "    </tr>\n",
       "    <tr>\n",
       "      <th>75%</th>\n",
       "      <td>1.310062</td>\n",
       "      <td>0.809298</td>\n",
       "      <td>1.017166</td>\n",
       "      <td>0.763626</td>\n",
       "      <td>0.603678</td>\n",
       "      <td>0.356664</td>\n",
       "      <td>0.594029</td>\n",
       "      <td>0.313264</td>\n",
       "      <td>0.568374</td>\n",
       "      <td>0.437051</td>\n",
       "      <td>...</td>\n",
       "      <td>0.196481</td>\n",
       "      <td>0.509243</td>\n",
       "      <td>0.146835</td>\n",
       "      <td>0.441278</td>\n",
       "      <td>0.348177</td>\n",
       "      <td>0.228486</td>\n",
       "      <td>0.095662</td>\n",
       "      <td>0.077357</td>\n",
       "      <td>75.000000</td>\n",
       "      <td>0.000000</td>\n",
       "    </tr>\n",
       "    <tr>\n",
       "      <th>max</th>\n",
       "      <td>2.422508</td>\n",
       "      <td>14.323254</td>\n",
       "      <td>3.760965</td>\n",
       "      <td>11.885313</td>\n",
       "      <td>9.880564</td>\n",
       "      <td>7.473970</td>\n",
       "      <td>9.288494</td>\n",
       "      <td>16.633103</td>\n",
       "      <td>8.054123</td>\n",
       "      <td>12.562347</td>\n",
       "      <td>...</td>\n",
       "      <td>19.283602</td>\n",
       "      <td>5.805795</td>\n",
       "      <td>13.218751</td>\n",
       "      <td>3.535179</td>\n",
       "      <td>3.590787</td>\n",
       "      <td>2.961609</td>\n",
       "      <td>4.623508</td>\n",
       "      <td>9.876371</td>\n",
       "      <td>4584.880000</td>\n",
       "      <td>1.000000</td>\n",
       "    </tr>\n",
       "  </tbody>\n",
       "</table>\n",
       "<p>8 rows × 30 columns</p>\n",
       "</div>"
      ],
      "text/plain": [
       "                V1           V2           V3           V4           V5  \\\n",
       "count  5050.000000  5050.000000  5050.000000  5050.000000  5050.000000   \n",
       "mean     -0.014675     0.044325    -0.035144     0.002494    -0.046625   \n",
       "std       1.952784     1.558235     1.691458     1.493592     1.321320   \n",
       "min     -25.266355   -18.701995   -26.823673    -4.575708   -18.664251   \n",
       "25%      -0.926226    -0.589562    -0.873696    -0.871759    -0.733235   \n",
       "50%       0.009592     0.088726     0.168377    -0.027034    -0.060932   \n",
       "75%       1.310062     0.809298     1.017166     0.763626     0.603678   \n",
       "max       2.422508    14.323254     3.760965    11.885313     9.880564   \n",
       "\n",
       "                V6           V7           V8           V9          V10  ...  \\\n",
       "count  5050.000000  5050.000000  5050.000000  5050.000000  5050.000000  ...   \n",
       "mean     -0.046340    -0.043020    -0.008398    -0.027331    -0.056943  ...   \n",
       "std       1.254301     1.338170     1.323247     1.134506     1.278092  ...   \n",
       "min      -6.357009   -23.783470   -41.484823    -8.504285   -17.141514  ...   \n",
       "25%      -0.777552    -0.571678    -0.211263    -0.651215    -0.541561  ...   \n",
       "50%      -0.304225     0.036753     0.000985    -0.052724    -0.109888  ...   \n",
       "75%       0.356664     0.594029     0.313264     0.568374     0.437051  ...   \n",
       "max       7.473970     9.288494    16.633103     8.054123    12.562347  ...   \n",
       "\n",
       "               V21          V22          V23          V24          V25  \\\n",
       "count  5050.000000  5050.000000  5050.000000  5050.000000  5050.000000   \n",
       "mean     -0.003516    -0.009421    -0.004147    -0.001200    -0.003314   \n",
       "std       0.756735     0.724749     0.601276     0.599400     0.517363   \n",
       "min     -20.262054    -5.532541   -17.026156    -2.307453    -3.308049   \n",
       "25%      -0.231508    -0.558904    -0.161166    -0.354973    -0.316947   \n",
       "50%      -0.035204    -0.013332    -0.011305     0.038272     0.019200   \n",
       "75%       0.196481     0.509243     0.146835     0.441278     0.348177   \n",
       "max      19.283602     5.805795    13.218751     3.535179     3.590787   \n",
       "\n",
       "               V26          V27          V28       Amount        Class  \n",
       "count  5050.000000  5050.000000  5050.000000  5050.000000  5050.000000  \n",
       "mean     -0.004836    -0.005726     0.002482    86.117232     0.009901  \n",
       "std       0.481913     0.411055     0.302719   227.210259     0.099020  \n",
       "min      -1.715640    -7.976100    -5.048979     0.000000     0.000000  \n",
       "25%      -0.331584    -0.070963    -0.052133     4.990000     0.000000  \n",
       "50%      -0.059882     0.003521     0.012842    20.260000     0.000000  \n",
       "75%       0.228486     0.095662     0.077357    75.000000     0.000000  \n",
       "max       2.961609     4.623508     9.876371  4584.880000     1.000000  \n",
       "\n",
       "[8 rows x 30 columns]"
      ]
     },
     "execution_count": 204,
     "metadata": {},
     "output_type": "execute_result"
    }
   ],
   "source": [
    "df.describe()"
   ]
  },
  {
   "cell_type": "code",
   "execution_count": 205,
   "metadata": {},
   "outputs": [
    {
     "data": {
      "text/html": [
       "<div>\n",
       "<style scoped>\n",
       "    .dataframe tbody tr th:only-of-type {\n",
       "        vertical-align: middle;\n",
       "    }\n",
       "\n",
       "    .dataframe tbody tr th {\n",
       "        vertical-align: top;\n",
       "    }\n",
       "\n",
       "    .dataframe thead th {\n",
       "        text-align: right;\n",
       "    }\n",
       "</style>\n",
       "<table border=\"1\" class=\"dataframe\">\n",
       "  <thead>\n",
       "    <tr style=\"text-align: right;\">\n",
       "      <th></th>\n",
       "      <th>V1</th>\n",
       "      <th>V2</th>\n",
       "      <th>V3</th>\n",
       "      <th>V4</th>\n",
       "      <th>V5</th>\n",
       "      <th>V6</th>\n",
       "      <th>V7</th>\n",
       "      <th>V8</th>\n",
       "      <th>V9</th>\n",
       "      <th>V10</th>\n",
       "      <th>...</th>\n",
       "      <th>V21</th>\n",
       "      <th>V22</th>\n",
       "      <th>V23</th>\n",
       "      <th>V24</th>\n",
       "      <th>V25</th>\n",
       "      <th>V26</th>\n",
       "      <th>V27</th>\n",
       "      <th>V28</th>\n",
       "      <th>Amount</th>\n",
       "      <th>Class</th>\n",
       "    </tr>\n",
       "  </thead>\n",
       "  <tbody>\n",
       "    <tr>\n",
       "      <th>min</th>\n",
       "      <td>-25.266355</td>\n",
       "      <td>-18.701995</td>\n",
       "      <td>-26.823673</td>\n",
       "      <td>-4.575708</td>\n",
       "      <td>-18.664251</td>\n",
       "      <td>-6.357009</td>\n",
       "      <td>-23.783470</td>\n",
       "      <td>-41.484823</td>\n",
       "      <td>-8.504285</td>\n",
       "      <td>-17.141514</td>\n",
       "      <td>...</td>\n",
       "      <td>-20.262054</td>\n",
       "      <td>-5.532541</td>\n",
       "      <td>-17.026156</td>\n",
       "      <td>-2.307453</td>\n",
       "      <td>-3.308049</td>\n",
       "      <td>-1.715640</td>\n",
       "      <td>-7.976100</td>\n",
       "      <td>-5.048979</td>\n",
       "      <td>0.00</td>\n",
       "      <td>0.0</td>\n",
       "    </tr>\n",
       "    <tr>\n",
       "      <th>max</th>\n",
       "      <td>2.422508</td>\n",
       "      <td>14.323254</td>\n",
       "      <td>3.760965</td>\n",
       "      <td>11.885313</td>\n",
       "      <td>9.880564</td>\n",
       "      <td>7.473970</td>\n",
       "      <td>9.288494</td>\n",
       "      <td>16.633103</td>\n",
       "      <td>8.054123</td>\n",
       "      <td>12.562347</td>\n",
       "      <td>...</td>\n",
       "      <td>19.283602</td>\n",
       "      <td>5.805795</td>\n",
       "      <td>13.218751</td>\n",
       "      <td>3.535179</td>\n",
       "      <td>3.590787</td>\n",
       "      <td>2.961609</td>\n",
       "      <td>4.623508</td>\n",
       "      <td>9.876371</td>\n",
       "      <td>4584.88</td>\n",
       "      <td>1.0</td>\n",
       "    </tr>\n",
       "  </tbody>\n",
       "</table>\n",
       "<p>2 rows × 30 columns</p>\n",
       "</div>"
      ],
      "text/plain": [
       "            V1         V2         V3         V4         V5        V6  \\\n",
       "min -25.266355 -18.701995 -26.823673  -4.575708 -18.664251 -6.357009   \n",
       "max   2.422508  14.323254   3.760965  11.885313   9.880564  7.473970   \n",
       "\n",
       "            V7         V8        V9        V10  ...        V21       V22  \\\n",
       "min -23.783470 -41.484823 -8.504285 -17.141514  ... -20.262054 -5.532541   \n",
       "max   9.288494  16.633103  8.054123  12.562347  ...  19.283602  5.805795   \n",
       "\n",
       "           V23       V24       V25       V26       V27       V28   Amount  \\\n",
       "min -17.026156 -2.307453 -3.308049 -1.715640 -7.976100 -5.048979     0.00   \n",
       "max  13.218751  3.535179  3.590787  2.961609  4.623508  9.876371  4584.88   \n",
       "\n",
       "     Class  \n",
       "min    0.0  \n",
       "max    1.0  \n",
       "\n",
       "[2 rows x 30 columns]"
      ]
     },
     "execution_count": 205,
     "metadata": {},
     "output_type": "execute_result"
    }
   ],
   "source": [
    "df.describe().loc[['min','max']]"
   ]
  },
  {
   "cell_type": "markdown",
   "metadata": {},
   "source": [
    "### Examining the relationship between variables (also important to inspect multicollinearity)"
   ]
  },
  {
   "cell_type": "code",
   "execution_count": 206,
   "metadata": {},
   "outputs": [
    {
     "data": {
      "text/html": [
       "<div>\n",
       "<style scoped>\n",
       "    .dataframe tbody tr th:only-of-type {\n",
       "        vertical-align: middle;\n",
       "    }\n",
       "\n",
       "    .dataframe tbody tr th {\n",
       "        vertical-align: top;\n",
       "    }\n",
       "\n",
       "    .dataframe thead th {\n",
       "        text-align: right;\n",
       "    }\n",
       "</style>\n",
       "<table border=\"1\" class=\"dataframe\">\n",
       "  <thead>\n",
       "    <tr style=\"text-align: right;\">\n",
       "      <th></th>\n",
       "      <th>V1</th>\n",
       "      <th>V2</th>\n",
       "      <th>V3</th>\n",
       "      <th>V4</th>\n",
       "      <th>V5</th>\n",
       "      <th>V6</th>\n",
       "      <th>V7</th>\n",
       "      <th>V8</th>\n",
       "      <th>V9</th>\n",
       "      <th>V10</th>\n",
       "      <th>...</th>\n",
       "      <th>V21</th>\n",
       "      <th>V22</th>\n",
       "      <th>V23</th>\n",
       "      <th>V24</th>\n",
       "      <th>V25</th>\n",
       "      <th>V26</th>\n",
       "      <th>V27</th>\n",
       "      <th>V28</th>\n",
       "      <th>Amount</th>\n",
       "      <th>Class</th>\n",
       "    </tr>\n",
       "  </thead>\n",
       "  <tbody>\n",
       "    <tr>\n",
       "      <th>V1</th>\n",
       "      <td>1.000000</td>\n",
       "      <td>-0.208046</td>\n",
       "      <td>0.112920</td>\n",
       "      <td>-0.044880</td>\n",
       "      <td>0.124098</td>\n",
       "      <td>0.009994</td>\n",
       "      <td>0.189397</td>\n",
       "      <td>0.000990</td>\n",
       "      <td>0.053254</td>\n",
       "      <td>0.169756</td>\n",
       "      <td>...</td>\n",
       "      <td>0.020187</td>\n",
       "      <td>-0.031568</td>\n",
       "      <td>-0.035292</td>\n",
       "      <td>0.010977</td>\n",
       "      <td>0.027121</td>\n",
       "      <td>0.012281</td>\n",
       "      <td>0.063151</td>\n",
       "      <td>0.023628</td>\n",
       "      <td>-0.166388</td>\n",
       "      <td>-0.254561</td>\n",
       "    </tr>\n",
       "    <tr>\n",
       "      <th>V2</th>\n",
       "      <td>-0.208046</td>\n",
       "      <td>1.000000</td>\n",
       "      <td>-0.158028</td>\n",
       "      <td>0.130166</td>\n",
       "      <td>-0.035907</td>\n",
       "      <td>-0.089209</td>\n",
       "      <td>-0.145099</td>\n",
       "      <td>0.016342</td>\n",
       "      <td>-0.046163</td>\n",
       "      <td>-0.158653</td>\n",
       "      <td>...</td>\n",
       "      <td>-0.013372</td>\n",
       "      <td>0.006442</td>\n",
       "      <td>0.040665</td>\n",
       "      <td>0.017742</td>\n",
       "      <td>0.023787</td>\n",
       "      <td>0.001233</td>\n",
       "      <td>0.028788</td>\n",
       "      <td>-0.046172</td>\n",
       "      <td>-0.536444</td>\n",
       "      <td>0.210337</td>\n",
       "    </tr>\n",
       "    <tr>\n",
       "      <th>V3</th>\n",
       "      <td>0.112920</td>\n",
       "      <td>-0.158028</td>\n",
       "      <td>1.000000</td>\n",
       "      <td>-0.148049</td>\n",
       "      <td>0.127841</td>\n",
       "      <td>0.100184</td>\n",
       "      <td>0.310937</td>\n",
       "      <td>-0.072739</td>\n",
       "      <td>0.133084</td>\n",
       "      <td>0.260534</td>\n",
       "      <td>...</td>\n",
       "      <td>-0.015989</td>\n",
       "      <td>-0.023994</td>\n",
       "      <td>-0.018938</td>\n",
       "      <td>0.015487</td>\n",
       "      <td>0.013147</td>\n",
       "      <td>-0.015003</td>\n",
       "      <td>-0.024336</td>\n",
       "      <td>0.013432</td>\n",
       "      <td>-0.138791</td>\n",
       "      <td>-0.429185</td>\n",
       "    </tr>\n",
       "    <tr>\n",
       "      <th>V4</th>\n",
       "      <td>-0.044880</td>\n",
       "      <td>0.130166</td>\n",
       "      <td>-0.148049</td>\n",
       "      <td>1.000000</td>\n",
       "      <td>-0.120720</td>\n",
       "      <td>-0.016338</td>\n",
       "      <td>-0.175523</td>\n",
       "      <td>0.025944</td>\n",
       "      <td>-0.064791</td>\n",
       "      <td>-0.167784</td>\n",
       "      <td>...</td>\n",
       "      <td>0.031084</td>\n",
       "      <td>0.009375</td>\n",
       "      <td>0.017811</td>\n",
       "      <td>0.026648</td>\n",
       "      <td>-0.021581</td>\n",
       "      <td>0.007397</td>\n",
       "      <td>0.000937</td>\n",
       "      <td>-0.007689</td>\n",
       "      <td>0.079917</td>\n",
       "      <td>0.323109</td>\n",
       "    </tr>\n",
       "    <tr>\n",
       "      <th>V5</th>\n",
       "      <td>0.124098</td>\n",
       "      <td>-0.035907</td>\n",
       "      <td>0.127841</td>\n",
       "      <td>-0.120720</td>\n",
       "      <td>1.000000</td>\n",
       "      <td>0.135528</td>\n",
       "      <td>0.376758</td>\n",
       "      <td>-0.072305</td>\n",
       "      <td>0.094999</td>\n",
       "      <td>0.151376</td>\n",
       "      <td>...</td>\n",
       "      <td>-0.017983</td>\n",
       "      <td>-0.016458</td>\n",
       "      <td>-0.019905</td>\n",
       "      <td>-0.011324</td>\n",
       "      <td>0.007643</td>\n",
       "      <td>0.006196</td>\n",
       "      <td>0.051520</td>\n",
       "      <td>0.005765</td>\n",
       "      <td>-0.313230</td>\n",
       "      <td>-0.248258</td>\n",
       "    </tr>\n",
       "  </tbody>\n",
       "</table>\n",
       "<p>5 rows × 30 columns</p>\n",
       "</div>"
      ],
      "text/plain": [
       "          V1        V2        V3        V4        V5        V6        V7  \\\n",
       "V1  1.000000 -0.208046  0.112920 -0.044880  0.124098  0.009994  0.189397   \n",
       "V2 -0.208046  1.000000 -0.158028  0.130166 -0.035907 -0.089209 -0.145099   \n",
       "V3  0.112920 -0.158028  1.000000 -0.148049  0.127841  0.100184  0.310937   \n",
       "V4 -0.044880  0.130166 -0.148049  1.000000 -0.120720 -0.016338 -0.175523   \n",
       "V5  0.124098 -0.035907  0.127841 -0.120720  1.000000  0.135528  0.376758   \n",
       "\n",
       "          V8        V9       V10  ...       V21       V22       V23       V24  \\\n",
       "V1  0.000990  0.053254  0.169756  ...  0.020187 -0.031568 -0.035292  0.010977   \n",
       "V2  0.016342 -0.046163 -0.158653  ... -0.013372  0.006442  0.040665  0.017742   \n",
       "V3 -0.072739  0.133084  0.260534  ... -0.015989 -0.023994 -0.018938  0.015487   \n",
       "V4  0.025944 -0.064791 -0.167784  ...  0.031084  0.009375  0.017811  0.026648   \n",
       "V5 -0.072305  0.094999  0.151376  ... -0.017983 -0.016458 -0.019905 -0.011324   \n",
       "\n",
       "         V25       V26       V27       V28    Amount     Class  \n",
       "V1  0.027121  0.012281  0.063151  0.023628 -0.166388 -0.254561  \n",
       "V2  0.023787  0.001233  0.028788 -0.046172 -0.536444  0.210337  \n",
       "V3  0.013147 -0.015003 -0.024336  0.013432 -0.138791 -0.429185  \n",
       "V4 -0.021581  0.007397  0.000937 -0.007689  0.079917  0.323109  \n",
       "V5  0.007643  0.006196  0.051520  0.005765 -0.313230 -0.248258  \n",
       "\n",
       "[5 rows x 30 columns]"
      ]
     },
     "execution_count": 206,
     "metadata": {},
     "output_type": "execute_result"
    }
   ],
   "source": [
    "df.corr().head()"
   ]
  },
  {
   "cell_type": "markdown",
   "metadata": {},
   "source": [
    "import seaborn as sns\n",
    "sns.heatmap(df.corr(), square=True, cmap='RdYlGn')"
   ]
  },
  {
   "cell_type": "markdown",
   "metadata": {},
   "source": [
    "### Examine the Total Fraud Amount "
   ]
  },
  {
   "cell_type": "code",
   "execution_count": 207,
   "metadata": {},
   "outputs": [
    {
     "data": {
      "text/html": [
       "<div>\n",
       "<style scoped>\n",
       "    .dataframe tbody tr th:only-of-type {\n",
       "        vertical-align: middle;\n",
       "    }\n",
       "\n",
       "    .dataframe tbody tr th {\n",
       "        vertical-align: top;\n",
       "    }\n",
       "\n",
       "    .dataframe thead th {\n",
       "        text-align: right;\n",
       "    }\n",
       "</style>\n",
       "<table border=\"1\" class=\"dataframe\">\n",
       "  <thead>\n",
       "    <tr style=\"text-align: right;\">\n",
       "      <th></th>\n",
       "      <th>count</th>\n",
       "      <th>mean</th>\n",
       "      <th>std</th>\n",
       "      <th>min</th>\n",
       "      <th>25%</th>\n",
       "      <th>50%</th>\n",
       "      <th>75%</th>\n",
       "      <th>max</th>\n",
       "    </tr>\n",
       "    <tr>\n",
       "      <th>Class</th>\n",
       "      <th></th>\n",
       "      <th></th>\n",
       "      <th></th>\n",
       "      <th></th>\n",
       "      <th></th>\n",
       "      <th></th>\n",
       "      <th></th>\n",
       "      <th></th>\n",
       "    </tr>\n",
       "  </thead>\n",
       "  <tbody>\n",
       "    <tr>\n",
       "      <th>0</th>\n",
       "      <td>5000.0</td>\n",
       "      <td>85.843714</td>\n",
       "      <td>227.144663</td>\n",
       "      <td>0.0</td>\n",
       "      <td>4.9975</td>\n",
       "      <td>20.325</td>\n",
       "      <td>74.9600</td>\n",
       "      <td>4584.88</td>\n",
       "    </tr>\n",
       "    <tr>\n",
       "      <th>1</th>\n",
       "      <td>50.0</td>\n",
       "      <td>113.469000</td>\n",
       "      <td>234.409091</td>\n",
       "      <td>0.0</td>\n",
       "      <td>1.0000</td>\n",
       "      <td>10.605</td>\n",
       "      <td>105.1725</td>\n",
       "      <td>1402.16</td>\n",
       "    </tr>\n",
       "  </tbody>\n",
       "</table>\n",
       "</div>"
      ],
      "text/plain": [
       "        count        mean         std  min     25%     50%       75%      max\n",
       "Class                                                                        \n",
       "0      5000.0   85.843714  227.144663  0.0  4.9975  20.325   74.9600  4584.88\n",
       "1        50.0  113.469000  234.409091  0.0  1.0000  10.605  105.1725  1402.16"
      ]
     },
     "execution_count": 207,
     "metadata": {},
     "output_type": "execute_result"
    }
   ],
   "source": [
    "df.groupby('Class').Amount.describe().loc[1]\n",
    "df.groupby('Class').Amount.describe()"
   ]
  },
  {
   "cell_type": "markdown",
   "metadata": {},
   "source": [
    "#### We can see that the maximum amount of money(transaction) labeled as fraud is a  354.33USD  and  75Pct of Fraud cases are less than  32 USD"
   ]
  },
  {
   "cell_type": "markdown",
   "metadata": {},
   "source": [
    "# Perform Outlier detection on the Amount of money "
   ]
  },
  {
   "cell_type": "code",
   "execution_count": 208,
   "metadata": {},
   "outputs": [
    {
     "name": "stdout",
     "output_type": "stream",
     "text": [
      "first quartile- 4.99 \n",
      "third quartile- 75.0 \n",
      "Inter Quartile Range 70.01\n",
      "lower level outlier border : -100.02500000000002\n",
      "upper level outlier border : 180.01500000000001\n"
     ]
    }
   ],
   "source": [
    "Q1 = df['Amount'].quantile(0.25)\n",
    "Q3 = df['Amount'].quantile(0.75)\n",
    "IQR = Q3 - Q1\n",
    "print('first quartile-',Q1,'\\nthird quartile-',Q3,'\\nInter Quartile Range',IQR)\n",
    "\n",
    "print('lower level outlier border :', (Q1 - 1.5 * IQR))\n",
    "print('upper level outlier border :', (Q3 + 1.5 * IQR))\n",
    "\n",
    "Non_Outliers = df[~((df['Amount'] < (Q1 - 1.5 * IQR)) | (df['Amount'] > (Q3 + 1.5 * IQR)))]\n",
    "Outliers = df[((df['Amount'] < (Q1 - 1.5 * IQR)) | (df['Amount'] > (Q3 + 1.5 * IQR)))]\n"
   ]
  },
  {
   "cell_type": "markdown",
   "metadata": {},
   "source": [
    "## Summary of Fraud Amount based on the outliers"
   ]
  },
  {
   "cell_type": "markdown",
   "metadata": {},
   "source": [
    "1. How many records are Normal(NOn-Outliers)\n",
    "2. How many records are Outliers based on the Amount of money(transaction)\n",
    "3. How many records are labeled \"Fraud\" from observations which are not outliers\n",
    "4. What is the ratio of \"Fraud\" vs \"Legit\" from observations which are not outliers\n",
    "5. How many records are labeled \"Fraud\" from observations which are outliers\n",
    "6. What is the ratio of \"Fraud\" vs \"Legit\" from observations which are outliers"
   ]
  },
  {
   "cell_type": "code",
   "execution_count": 209,
   "metadata": {},
   "outputs": [
    {
     "data": {
      "text/plain": [
       "0.014414414414414415"
      ]
     },
     "execution_count": 209,
     "metadata": {},
     "output_type": "execute_result"
    }
   ],
   "source": [
    "Non_Outliers.shape[0] # 1. Number of Non outlier records based on the Amount\n",
    "Outliers.shape[0] # 2. Number of Outlier records based on the Amount\n",
    "Non_Outliers[Non_Outliers.Class==1].shape[0] # 3. Number of Fraud detected from Non outlier records is only 14\n",
    "Non_Outliers[Non_Outliers.Class==1].shape[0]/Non_Outliers.shape[0] # 5. less than 0.2 percent of records from Non outliers are Fraud\n",
    "Outliers[Outliers.Class==1].shape[0] # 6. No of Recrods labeled fraud from the Outliers\n",
    "Outliers[Outliers.Class==1].shape[0]/Outliers.shape[0] # less than 0.3 pct of recors labeled Fraud from ouliers"
   ]
  },
  {
   "cell_type": "code",
   "execution_count": 210,
   "metadata": {},
   "outputs": [
    {
     "name": "stdout",
     "output_type": "stream",
     "text": [
      "4495\n"
     ]
    }
   ],
   "source": [
    "print(Non_Outliers.shape[0])"
   ]
  },
  {
   "cell_type": "code",
   "execution_count": 211,
   "metadata": {},
   "outputs": [
    {
     "name": "stdout",
     "output_type": "stream",
     "text": [
      "Number of Non outlier records based on the Amount: 4495,\n",
      "Number of Outlier records based on the Amount: 555\n"
     ]
    }
   ],
   "source": [
    "print(\"Number of Non outlier records based on the Amount: %d,\\nNumber of Outlier records based on the Amount: %d\" % (Non_Outliers.shape[0], Outliers.shape[0]))"
   ]
  },
  {
   "cell_type": "markdown",
   "metadata": {},
   "source": [
    "## Preparing the dataset for Modeling"
   ]
  },
  {
   "cell_type": "markdown",
   "metadata": {},
   "source": [
    "#### baseline model"
   ]
  },
  {
   "cell_type": "code",
   "execution_count": 212,
   "metadata": {},
   "outputs": [],
   "source": [
    "X = df.drop(columns=['Class']).values\n",
    "y = df['Class'].values"
   ]
  },
  {
   "cell_type": "code",
   "execution_count": 213,
   "metadata": {},
   "outputs": [
    {
     "name": "stdout",
     "output_type": "stream",
     "text": [
      "************************************\n",
      "0.9995348837209301\n",
      "************************************\n",
      "              precision    recall  f1-score   support\n",
      "\n",
      "           0       1.00      1.00      1.00      1505\n",
      "           1       0.90      0.90      0.90        10\n",
      "\n",
      "    accuracy                           1.00      1515\n",
      "   macro avg       0.95      0.95      0.95      1515\n",
      "weighted avg       1.00      1.00      1.00      1515\n",
      "\n",
      "[[1504    1]\n",
      " [   1    9]]\n"
     ]
    }
   ],
   "source": [
    "import warnings\n",
    "from sklearn.exceptions import ConvergenceWarning\n",
    "warnings.filterwarnings(\"ignore\", category=ConvergenceWarning)\n",
    "\n",
    "# Import necessary modules\n",
    "from sklearn.model_selection import train_test_split, GridSearchCV\n",
    "from sklearn.linear_model import LogisticRegression\n",
    "from sklearn.metrics import classification_report, confusion_matrix, roc_auc_score\n",
    "from sklearn.neighbors import KNeighborsClassifier\n",
    "from sklearn.model_selection import cross_val_score\n",
    "\n",
    "\n",
    "# Create training and test set\n",
    "X_train, X_test, y_train, y_test = train_test_split(X,y,test_size = 0.3,random_state=0)\n",
    "base_logistic = LogisticRegression()\n",
    "base_logistic.fit(X_train,y_train)\n",
    "base_y_pred = base_logistic.predict(X_test)\n",
    "\n",
    "\n",
    "# Predict probabilities\n",
    "base_probs = base_logistic.predict_proba(X_test)\n",
    "\n",
    "# Print the ROC curve, classification report and confusion matrix\n",
    "print('************************************')\n",
    "print(roc_auc_score(y_test, base_probs[:,1])) \n",
    "print('************************************')\n",
    "print(classification_report(y_test, base_y_pred))\n",
    "print(confusion_matrix(y_test, base_y_pred))"
   ]
  },
  {
   "cell_type": "markdown",
   "metadata": {},
   "source": [
    "An imbalanced datasets in machine learning can affect the performance and accuracy of the model. An imbalanced dataset is one where the number of observations in one class is significantly larger or smaller than the number of observations in another class.\n",
    "\n",
    "### Some of the approaches to deal with imbalanced datasets:\n",
    "\n",
    "    1. Resampling: You can either oversample the minority class or undersample the majority class to balance the dataset. Oversampling can be done by duplicating examples from the minority class or by generating new examples. Undersampling can be done by randomly selecting a subset of examples from the majority class. However, resampling can lead to overfitting or underfitting the model.\n",
    "\n",
    "    2. Class weighting: You can assign higher weights to the minority class and lower weights to the majority class during model training. This can be done in several machine learning frameworks by setting the class_weight parameter.\n",
    "\n",
    "    3. Data augmentation: You can generate new examples for the minority class using techniques such as rotation, scaling, and flipping. This can increase the size of the minority class and balance the dataset.\n",
    "\n",
    "    4. Ensemble methods: You can combine multiple models that are trained on different subsets of the data. This can improve the accuracy of the model and reduce the impact of the imbalanced dataset.\n",
    "\n",
    "    5. Choosing appropriate evaluation metrics: Accuracy is not always the best metric to evaluate the performance of a model on imbalanced datasets. Other metrics such as precision, recall, F1 score, and AUC-ROC can provide a better evaluation of the model's performance.\n"
   ]
  },
  {
   "cell_type": "markdown",
   "metadata": {},
   "source": [
    "### Resampling Using Synthetic minority oversampling technique(SMOTE) and Pipeline"
   ]
  },
  {
   "cell_type": "markdown",
   "metadata": {},
   "source": [
    "#### SMOTE generates new examples for the minority class by interpolating between existing examples. It does this by selecting pairs of examples from the minority class and interpolating between them to create new examples. This can reduce the risk of overfitting as the model sees new examples, but it can also lead to the creation of noisy examples."
   ]
  },
  {
   "cell_type": "code",
   "execution_count": 214,
   "metadata": {},
   "outputs": [],
   "source": [
    "from imblearn.over_sampling import SMOTE\n",
    "from imblearn.pipeline import Pipeline \n",
    "import imblearn\n",
    "\n",
    "overfit = SMOTE()\n",
    "X_res,y_res = overfit.fit_resample(X,y)\n",
    "model = LogisticRegression()\n",
    "\n",
    "# Define the pipeline, tell it to combine SMOTE with the Logistic Regression model\n",
    "pipeline = Pipeline([('SMOTE', resampling), ('Logistic Regression', model)])"
   ]
  },
  {
   "cell_type": "code",
   "execution_count": 215,
   "metadata": {},
   "outputs": [
    {
     "name": "stdout",
     "output_type": "stream",
     "text": [
      "Classifcation report:\n",
      "               precision    recall  f1-score   support\n",
      "\n",
      "           0       1.00      0.99      1.00      1505\n",
      "           1       0.44      0.70      0.54        10\n",
      "\n",
      "    accuracy                           0.99      1515\n",
      "   macro avg       0.72      0.85      0.77      1515\n",
      "weighted avg       0.99      0.99      0.99      1515\n",
      "\n",
      "Confusion matrix:\n",
      " [[1496    9]\n",
      " [   3    7]]\n"
     ]
    }
   ],
   "source": [
    "# Split your data X and y, into a training and a test set and fit the pipeline onto the training data\n",
    "X_train, X_test, y_train, y_test = train_test_split(X,y, test_size=0.3, random_state=0)\n",
    "\n",
    "# Fit your pipeline onto your training set and obtain predictions by fitting the model onto the test data \n",
    "pipeline.fit(X_train,y_train) \n",
    "predicted = pipeline.predict(X_test)\n",
    "\n",
    "# Obtain the results from the classification report and confusion matrix \n",
    "print('Classifcation report:\\n', classification_report(y_test, predicted))\n",
    "conf_mat = confusion_matrix(y_true=y_test, y_pred=predicted)\n",
    "print('Confusion matrix:\\n', conf_mat)"
   ]
  },
  {
   "cell_type": "markdown",
   "metadata": {},
   "source": [
    "### Comparing the unbalanced and balanced dataset using Numerical and graphical technique"
   ]
  },
  {
   "cell_type": "markdown",
   "metadata": {},
   "source": [
    "Compare SMOTE to original data\n",
    "the value counts of old and new data, and plot the two scatter plots of the data side by side. "
   ]
  },
  {
   "cell_type": "markdown",
   "metadata": {},
   "source": [
    "##### Define a function to compare the original and the resampled datasets."
   ]
  },
  {
   "cell_type": "code",
   "execution_count": 216,
   "metadata": {},
   "outputs": [],
   "source": [
    "def compare_plot(X,y,X_resampled,y_resampled, method):\n",
    "    # Start a plot figure\n",
    "    f, (ax1, ax2) = plt.subplots(1, 2)\n",
    "    # sub-plot number 1, this the original(normal) data\n",
    "    c0 = ax1.scatter(X[y == 0, 0], X[y == 0, 1], label=\"Class #0\",alpha=0.5)\n",
    "    c1 = ax1.scatter(X[y == 1, 0], X[y == 1, 1], label=\"Class #1\",alpha=0.5, c='r')\n",
    "    ax1.set_title('Original set')\n",
    "    \n",
    "    # sub-plot number 2, this is the oversampled data\n",
    "    ax2.scatter(X_resampled[y_resampled == 0, 0], X_resampled[y_resampled == 0, 1], label=\"Class #0\", alpha=.5)\n",
    "    ax2.scatter(X_resampled[y_resampled == 1, 0], X_resampled[y_resampled == 1, 1], label=\"Class #1\", alpha=.5,c='r')\n",
    "    ax2.set_title(method)\n",
    "    # some settings and ready to go\n",
    "    plt.figlegend((c0, c1), ('Class #0', 'Class #1'), loc='lower center', ncol=2, labelspacing=0.)\n",
    "    plt.tight_layout(pad=3)\n",
    "    return plt.show()"
   ]
  },
  {
   "cell_type": "code",
   "execution_count": 217,
   "metadata": {},
   "outputs": [
    {
     "name": "stdout",
     "output_type": "stream",
     "text": [
      "0    5000\n",
      "1      50\n",
      "dtype: int64\n",
      "0    5000\n",
      "1    5000\n",
      "dtype: int64\n"
     ]
    },
    {
     "data": {
      "image/png": "[encoded data removed]",
      "text/plain": [
       "<Figure size 640x480 with 2 Axes>"
      ]
     },
     "metadata": {},
     "output_type": "display_data"
    }
   ],
   "source": [
    "# original labels y\n",
    "print(pd.value_counts(pd.Series(y)))\n",
    "\n",
    "# Resampled label y_res\n",
    "print(pd.value_counts(pd.Series(y_res)))\n",
    "\n",
    "# Run compare_plot\n",
    "compare_plot(X,y,X_res,y_res, method='SMOTE')"
   ]
  },
  {
   "cell_type": "markdown",
   "metadata": {},
   "source": [
    "# PART 2"
   ]
  },
  {
   "cell_type": "code",
   "execution_count": 218,
   "metadata": {},
   "outputs": [],
   "source": [
    "# Import pandas and read csv\n",
    "import pandas as pd\n",
    "import numpy as np\n",
    "import matplotlib.pyplot as plt\n",
    "#import seaborn as sns\n",
    "df2 = pd.read_csv(\"C:/Fraud Detection/creditcard_sampledata_2.csv\")"
   ]
  },
  {
   "cell_type": "markdown",
   "metadata": {},
   "source": [
    "### Baseline "
   ]
  },
  {
   "cell_type": "markdown",
   "metadata": {},
   "source": [
    "Natural hit rate\n",
    "how prevalent fraud is in the dataset, to understand what the \"natural accuracy\" is, if we were to predict everything as non-fraud. It's is important to understand which level of \"accuracy\" you need to \"beat\" in order to get a better prediction than by doing nothing. "
   ]
  },
  {
   "cell_type": "code",
   "execution_count": 219,
   "metadata": {},
   "outputs": [
    {
     "name": "stdout",
     "output_type": "stream",
     "text": [
      "95.8904109589041\n"
     ]
    }
   ],
   "source": [
    "# Count the total number of observations from the length of y\n",
    "#total_obs = y.size\n",
    "y = df2.Class.values\n",
    "total_obs = y.size\n",
    "\n",
    "# Count the total number of non-fraudulent observations \n",
    "non_fraud = [i for i in y if i == 0]\n",
    "count_non_fraud = non_fraud.count(0)\n",
    "\n",
    "# Calculate the percentage of non fraud observations in the dataset\n",
    "percentage = (float(count_non_fraud)/float(total_obs)) * 100\n",
    "\n",
    "# Print the percentage: this is our \"natural accuracy\" by doing nothing\n",
    "print(percentage)\n"
   ]
  },
  {
   "cell_type": "markdown",
   "metadata": {},
   "source": [
    "## Random forest classifier for fraud detection as the \"baseline\" model to try to improve "
   ]
  },
  {
   "cell_type": "code",
   "execution_count": 220,
   "metadata": {},
   "outputs": [
    {
     "data": {
      "text/html": [
       "<div>\n",
       "<style scoped>\n",
       "    .dataframe tbody tr th:only-of-type {\n",
       "        vertical-align: middle;\n",
       "    }\n",
       "\n",
       "    .dataframe tbody tr th {\n",
       "        vertical-align: top;\n",
       "    }\n",
       "\n",
       "    .dataframe thead th {\n",
       "        text-align: right;\n",
       "    }\n",
       "</style>\n",
       "<table border=\"1\" class=\"dataframe\">\n",
       "  <thead>\n",
       "    <tr style=\"text-align: right;\">\n",
       "      <th></th>\n",
       "      <th>Unnamed: 0</th>\n",
       "      <th>V1</th>\n",
       "      <th>V2</th>\n",
       "      <th>V3</th>\n",
       "      <th>V4</th>\n",
       "      <th>V5</th>\n",
       "      <th>V6</th>\n",
       "      <th>V7</th>\n",
       "      <th>V8</th>\n",
       "      <th>V9</th>\n",
       "      <th>...</th>\n",
       "      <th>V21</th>\n",
       "      <th>V22</th>\n",
       "      <th>V23</th>\n",
       "      <th>V24</th>\n",
       "      <th>V25</th>\n",
       "      <th>V26</th>\n",
       "      <th>V27</th>\n",
       "      <th>V28</th>\n",
       "      <th>Amount</th>\n",
       "      <th>Class</th>\n",
       "    </tr>\n",
       "  </thead>\n",
       "  <tbody>\n",
       "    <tr>\n",
       "      <th>0</th>\n",
       "      <td>221547</td>\n",
       "      <td>-1.191668</td>\n",
       "      <td>0.428409</td>\n",
       "      <td>1.640028</td>\n",
       "      <td>-1.848859</td>\n",
       "      <td>-0.870903</td>\n",
       "      <td>-0.204849</td>\n",
       "      <td>-0.385675</td>\n",
       "      <td>0.352793</td>\n",
       "      <td>-1.098301</td>\n",
       "      <td>...</td>\n",
       "      <td>0.507173</td>\n",
       "      <td>1.292565</td>\n",
       "      <td>-0.467752</td>\n",
       "      <td>1.244887</td>\n",
       "      <td>0.697707</td>\n",
       "      <td>0.059375</td>\n",
       "      <td>-0.319964</td>\n",
       "      <td>-0.017444</td>\n",
       "      <td>27.44</td>\n",
       "      <td>0</td>\n",
       "    </tr>\n",
       "    <tr>\n",
       "      <th>1</th>\n",
       "      <td>184524</td>\n",
       "      <td>1.966614</td>\n",
       "      <td>-0.450087</td>\n",
       "      <td>-1.228586</td>\n",
       "      <td>0.142873</td>\n",
       "      <td>-0.150627</td>\n",
       "      <td>-0.543590</td>\n",
       "      <td>-0.076217</td>\n",
       "      <td>-0.108390</td>\n",
       "      <td>0.973310</td>\n",
       "      <td>...</td>\n",
       "      <td>0.124055</td>\n",
       "      <td>0.564916</td>\n",
       "      <td>-0.039331</td>\n",
       "      <td>-0.283904</td>\n",
       "      <td>0.186400</td>\n",
       "      <td>0.192932</td>\n",
       "      <td>-0.039155</td>\n",
       "      <td>-0.071314</td>\n",
       "      <td>35.95</td>\n",
       "      <td>0</td>\n",
       "    </tr>\n",
       "    <tr>\n",
       "      <th>2</th>\n",
       "      <td>91201</td>\n",
       "      <td>1.528452</td>\n",
       "      <td>-1.296191</td>\n",
       "      <td>-0.890677</td>\n",
       "      <td>-2.504028</td>\n",
       "      <td>0.803202</td>\n",
       "      <td>3.350793</td>\n",
       "      <td>-1.633016</td>\n",
       "      <td>0.815350</td>\n",
       "      <td>-1.884692</td>\n",
       "      <td>...</td>\n",
       "      <td>-0.412088</td>\n",
       "      <td>-1.017485</td>\n",
       "      <td>0.129566</td>\n",
       "      <td>0.948048</td>\n",
       "      <td>0.287826</td>\n",
       "      <td>-0.396592</td>\n",
       "      <td>0.042997</td>\n",
       "      <td>0.025853</td>\n",
       "      <td>28.40</td>\n",
       "      <td>0</td>\n",
       "    </tr>\n",
       "    <tr>\n",
       "      <th>3</th>\n",
       "      <td>26115</td>\n",
       "      <td>-0.774614</td>\n",
       "      <td>1.100916</td>\n",
       "      <td>0.679080</td>\n",
       "      <td>1.034016</td>\n",
       "      <td>0.168633</td>\n",
       "      <td>0.874582</td>\n",
       "      <td>0.209454</td>\n",
       "      <td>0.770550</td>\n",
       "      <td>-0.558106</td>\n",
       "      <td>...</td>\n",
       "      <td>0.011158</td>\n",
       "      <td>0.146017</td>\n",
       "      <td>-0.130401</td>\n",
       "      <td>-0.848815</td>\n",
       "      <td>0.005698</td>\n",
       "      <td>-0.183295</td>\n",
       "      <td>0.282940</td>\n",
       "      <td>0.123856</td>\n",
       "      <td>43.20</td>\n",
       "      <td>0</td>\n",
       "    </tr>\n",
       "    <tr>\n",
       "      <th>4</th>\n",
       "      <td>201292</td>\n",
       "      <td>-1.075860</td>\n",
       "      <td>1.361160</td>\n",
       "      <td>1.496972</td>\n",
       "      <td>2.242604</td>\n",
       "      <td>1.314751</td>\n",
       "      <td>0.272787</td>\n",
       "      <td>1.005246</td>\n",
       "      <td>0.132932</td>\n",
       "      <td>-1.558317</td>\n",
       "      <td>...</td>\n",
       "      <td>0.254485</td>\n",
       "      <td>0.530692</td>\n",
       "      <td>-0.651119</td>\n",
       "      <td>0.626389</td>\n",
       "      <td>1.040212</td>\n",
       "      <td>0.249501</td>\n",
       "      <td>-0.146745</td>\n",
       "      <td>0.029714</td>\n",
       "      <td>10.59</td>\n",
       "      <td>0</td>\n",
       "    </tr>\n",
       "  </tbody>\n",
       "</table>\n",
       "<p>5 rows × 31 columns</p>\n",
       "</div>"
      ],
      "text/plain": [
       "   Unnamed: 0        V1        V2        V3        V4        V5        V6  \\\n",
       "0      221547 -1.191668  0.428409  1.640028 -1.848859 -0.870903 -0.204849   \n",
       "1      184524  1.966614 -0.450087 -1.228586  0.142873 -0.150627 -0.543590   \n",
       "2       91201  1.528452 -1.296191 -0.890677 -2.504028  0.803202  3.350793   \n",
       "3       26115 -0.774614  1.100916  0.679080  1.034016  0.168633  0.874582   \n",
       "4      201292 -1.075860  1.361160  1.496972  2.242604  1.314751  0.272787   \n",
       "\n",
       "         V7        V8        V9  ...       V21       V22       V23       V24  \\\n",
       "0 -0.385675  0.352793 -1.098301  ...  0.507173  1.292565 -0.467752  1.244887   \n",
       "1 -0.076217 -0.108390  0.973310  ...  0.124055  0.564916 -0.039331 -0.283904   \n",
       "2 -1.633016  0.815350 -1.884692  ... -0.412088 -1.017485  0.129566  0.948048   \n",
       "3  0.209454  0.770550 -0.558106  ...  0.011158  0.146017 -0.130401 -0.848815   \n",
       "4  1.005246  0.132932 -1.558317  ...  0.254485  0.530692 -0.651119  0.626389   \n",
       "\n",
       "        V25       V26       V27       V28  Amount  Class  \n",
       "0  0.697707  0.059375 -0.319964 -0.017444   27.44      0  \n",
       "1  0.186400  0.192932 -0.039155 -0.071314   35.95      0  \n",
       "2  0.287826 -0.396592  0.042997  0.025853   28.40      0  \n",
       "3  0.005698 -0.183295  0.282940  0.123856   43.20      0  \n",
       "4  1.040212  0.249501 -0.146745  0.029714   10.59      0  \n",
       "\n",
       "[5 rows x 31 columns]"
      ]
     },
     "execution_count": 220,
     "metadata": {},
     "output_type": "execute_result"
    }
   ],
   "source": [
    "df2.head(5)"
   ]
  },
  {
   "cell_type": "code",
   "execution_count": 221,
   "metadata": {},
   "outputs": [],
   "source": [
    "X = df2.drop(columns=['Unnamed: 0','Class']).values\n",
    "y = df2.Class.values"
   ]
  },
  {
   "cell_type": "code",
   "execution_count": 222,
   "metadata": {},
   "outputs": [],
   "source": [
    "from sklearn.ensemble import RandomForestClassifier\n",
    "X_train, X_test, y_train, y_test = train_test_split(X, y, test_size=0.3, random_state=0)\n",
    "model = RandomForestClassifier(random_state=5)\n",
    "model.fit(X_train,y_train)\n",
    "predicted = model.predict(X_test)"
   ]
  },
  {
   "cell_type": "markdown",
   "metadata": {},
   "source": [
    "#### Performance Evaluation"
   ]
  },
  {
   "cell_type": "markdown",
   "metadata": {},
   "source": [
    "Accuracy can be misleading in the case of fraud detection. With highly imbalanced fraud data, the AUROC curve is a more reliable performance metric, used to compare different classifiers. Moreover, the classification report tells us about the precision and recall of our model, whilst the confusion matrix actually shows how many fraud cases you can predict correctly. "
   ]
  },
  {
   "cell_type": "code",
   "execution_count": 223,
   "metadata": {},
   "outputs": [
    {
     "name": "stdout",
     "output_type": "stream",
     "text": [
      "0.9697317927427505\n",
      "              precision    recall  f1-score   support\n",
      "\n",
      "           0       0.99      1.00      1.00      2099\n",
      "           1       0.99      0.80      0.88        91\n",
      "\n",
      "    accuracy                           0.99      2190\n",
      "   macro avg       0.99      0.90      0.94      2190\n",
      "weighted avg       0.99      0.99      0.99      2190\n",
      "\n",
      "[[2098    1]\n",
      " [  18   73]]\n"
     ]
    }
   ],
   "source": [
    "# Predict probabilities\n",
    "probs = model.predict_proba(X_test)\n",
    "\n",
    "# Print the ROC curve, classification report and confusion matrix\n",
    "print(roc_auc_score(y_test, probs[:,1]))\n",
    "print(classification_report(y_test, predicted))\n",
    "print(confusion_matrix(y_test, predicted))"
   ]
  },
  {
   "cell_type": "markdown",
   "metadata": {},
   "source": [
    "We can also plot a Precision-Recall curve, to investigate the trade-off between the two in our model. \n",
    "    In this curve Precision and Recall are inversely related\n",
    "    As Precision increases, Recall falls and vice-versa. \n",
    "    A balance between these two needs to be achieved in our model to avoid many false positives.\n",
    "    To achieve this and to compare performance, the precision-recall curves come in handy."
   ]
  },
  {
   "cell_type": "code",
   "execution_count": 224,
   "metadata": {},
   "outputs": [],
   "source": [
    "# Calculate average precision and the PR curve\n",
    "from sklearn.metrics import average_precision_score, precision_recall_curve\n",
    "#Precision = TP/(TP+FP)\n",
    "#Recall = TP/(TP+FN)\n",
    "average_precision = average_precision_score(y_test, predicted)\n",
    "\n",
    "# Obtain precision and recall \n",
    "precision, recall, _ = precision_recall_curve(y_test,predicted)"
   ]
  },
  {
   "cell_type": "code",
   "execution_count": 225,
   "metadata": {},
   "outputs": [],
   "source": [
    "def plot_pr_curve(recall, precision, average_precision):\n",
    "    plt.step(recall, precision, color='b', alpha=0.2, where='post')\n",
    "    plt.fill_between(recall, precision, step='post', alpha=0.2, color='b')\n",
    "    plt.xlabel('Recall')\n",
    "    plt.ylabel('Precision')\n",
    "    plt.ylim([0.0, 1.05])\n",
    "    plt.xlim([0.0, 1.0])\n",
    "    plt.title('2-class Precision-Recall curve: AP={0:0.2f}'.format(average_precision))\n",
    "    plt.show()\n"
   ]
  },
  {
   "cell_type": "code",
   "execution_count": 226,
   "metadata": {},
   "outputs": [
    {
     "data": {
      "image/png": "[encoded data removed]",
      "text/plain": [
       "<Figure size 640x480 with 1 Axes>"
      ]
     },
     "metadata": {},
     "output_type": "display_data"
    }
   ],
   "source": [
    "# Plot the recall precision tradeoff\n",
    "plot_pr_curve(recall, precision, average_precision)"
   ]
  },
  {
   "cell_type": "markdown",
   "metadata": {},
   "source": [
    "#### The AUROC answers the question: \"How well can this classifier be expected to perform in general, at a variety of different baseline probabilities?\" but precision and recall don't."
   ]
  },
  {
   "cell_type": "markdown",
   "metadata": {},
   "source": [
    "The ROC curve plots the true positives vs. false positives , for a classifier, as its discrimination threshold is varied. Since, a random method describes a horizontal curve through the unit interval, it has an AUC of 0.5. Minimally, classifiers should perform better than this, and the extent to which they score higher than one another (meaning the area under the ROC curve is larger), they have better expected performance."
   ]
  },
  {
   "cell_type": "markdown",
   "metadata": {},
   "source": [
    "## Model adjustments using class weights"
   ]
  },
  {
   "cell_type": "markdown",
   "metadata": {},
   "source": [
    "\n",
    "A simple way to adjust the random forest model to deal with highly imbalanced fraud data, is to use the class_weights option when defining your sklearn model. However, as you will see, it is a bit of a blunt force mechanism and might not work for your very special case.\n",
    "\n",
    "In this exercise you'll explore the weight = \"balanced_subsample\" mode the Random Forest model from the earlier exercise. You already have split your data in a training and test set, i.e X_train, X_test, y_train, y_test are available. The metrics function have already been imported."
   ]
  },
  {
   "cell_type": "code",
   "execution_count": 227,
   "metadata": {},
   "outputs": [
    {
     "name": "stdout",
     "output_type": "stream",
     "text": [
      "0.9604599783256286\n",
      "              precision    recall  f1-score   support\n",
      "\n",
      "           0       0.99      1.00      1.00      2099\n",
      "           1       0.99      0.81      0.89        91\n",
      "\n",
      "    accuracy                           0.99      2190\n",
      "   macro avg       0.99      0.91      0.94      2190\n",
      "weighted avg       0.99      0.99      0.99      2190\n",
      "\n",
      "[[2098    1]\n",
      " [  17   74]]\n"
     ]
    }
   ],
   "source": [
    "# Define the model with balanced subsample\n",
    "model = RandomForestClassifier(class_weight='balanced_subsample', random_state=5)\n",
    "\n",
    "# Fit your training model to your training set\n",
    "model.fit(X_train, y_train)\n",
    "\n",
    "# Obtain the predicted values and probabilities from the model \n",
    "predicted = model.predict(X_test)\n",
    "probs = model.predict_proba(X_test)\n",
    "\n",
    "# Print the roc_auc_score, the classification report and confusion matrix\n",
    "print(roc_auc_score(y_test, probs[:,1]))\n",
    "print(classification_report(y_test, predicted))\n",
    "print(confusion_matrix(y_test, predicted))"
   ]
  },
  {
   "cell_type": "markdown",
   "metadata": {},
   "source": [
    "### Adjusting your Random Forest to fraud detection- using manual adjustment of the weights"
   ]
  },
  {
   "cell_type": "raw",
   "metadata": {},
   "source": [
    "Assign weights and tweak the shape of the decision trees in the forest. \n",
    "    define weights manually, to be able to off-set that imbalance slightly. \n",
    "    we have 300 fraud to 7000 non-fraud cases\n",
    "    setting the weight ratio to 1:12, we get to a 1/3 fraud to 2/3 non-fraud ratio"
   ]
  },
  {
   "cell_type": "code",
   "execution_count": 228,
   "metadata": {},
   "outputs": [
    {
     "name": "stdout",
     "output_type": "stream",
     "text": [
      "              precision    recall  f1-score   support\n",
      "\n",
      "           0       0.99      1.00      1.00      2099\n",
      "           1       0.94      0.84      0.88        91\n",
      "\n",
      "    accuracy                           0.99      2190\n",
      "   macro avg       0.97      0.92      0.94      2190\n",
      "weighted avg       0.99      0.99      0.99      2190\n",
      "\n",
      "[[2094    5]\n",
      " [  15   76]]\n"
     ]
    }
   ],
   "source": [
    "# Set the model options\n",
    "'''\n",
    "setting the weight option to the ratio to 1 to 12 for the non-fraud and fraud cases \n",
    "setting the split criterion to 'entropy'.\n",
    "setting the maximum depth to 10.\n",
    "setting the minimal samples in leaf nodes to 10.\n",
    "setting the number of trees to use in the model to 20.'''\n",
    "\n",
    "model = RandomForestClassifier(bootstrap=True, class_weight={0:1, 1:12}, criterion='entropy',\n",
    "max_depth=10,\n",
    "min_samples_leaf=10, \n",
    "n_estimators=20, n_jobs=-1, random_state=5)\n",
    "\n",
    "\n",
    "def get_model_results(X_train, y_train, X_test, y_test, model):\n",
    "    model.fit(X_train, y_train)\n",
    "    predicted = model.predict(X_test)\n",
    "    probs = model.predict_proba(X_test)\n",
    "    print (classification_report(y_test, predicted))\n",
    "    print (confusion_matrix(y_test, predicted))\n",
    "\n",
    "get_model_results(X_train, y_train, X_test, y_test, model)"
   ]
  },
  {
   "cell_type": "markdown",
   "metadata": {},
   "source": [
    "## GridSearchCV to find optimal parameters"
   ]
  },
  {
   "cell_type": "raw",
   "metadata": {},
   "source": [
    "With GridSearchCV we define which performance metric to score the options on. Since for fraud detection we are mostly interested in catching as many fraud cases as possible, we can optimize our model settings to get the best possible Recall score. \n",
    "If we also cared about reducing the number of false positives, we could optimize on F1-score, this gives us that nice Precision-Recall trade-off.\n"
   ]
  },
  {
   "cell_type": "code",
   "execution_count": 229,
   "metadata": {},
   "outputs": [
    {
     "data": {
      "text/plain": [
       "{'criterion': 'gini',\n",
       " 'max_depth': 8,\n",
       " 'max_features': 'auto',\n",
       " 'n_estimators': 30}"
      ]
     },
     "execution_count": 229,
     "metadata": {},
     "output_type": "execute_result"
    }
   ],
   "source": [
    "# Define the parameter sets to test\n",
    "param_grid = {'n_estimators': [1, 30], \n",
    "              'max_features': ['auto', 'log2'],  \n",
    "              'max_depth': [4, 8], \n",
    "              'criterion': ['gini', 'entropy']\n",
    "}\n",
    "\n",
    "model  = RandomForestClassifier(random_state=5)\n",
    "\n",
    "# Combine the parameter sets with the defined model and Fit the model to our training data. then obtain best parameters\n",
    "CV_model = GridSearchCV(estimator=model, param_grid=param_grid, cv=5, scoring='recall', n_jobs=-1)\n",
    "CV_model.fit(X_train, y_train)\n",
    "CV_model.best_params_"
   ]
  },
  {
   "cell_type": "markdown",
   "metadata": {},
   "source": [
    "The best parameters for our model are that the split criterion should be set to 'gini', the number of estimators (trees) should be 30, the maximum depth of the model should be 8 and the maximum features should be set to \"auto\"."
   ]
  },
  {
   "cell_type": "markdown",
   "metadata": {},
   "source": [
    "#### MOdel Performance"
   ]
  },
  {
   "cell_type": "code",
   "execution_count": 230,
   "metadata": {},
   "outputs": [
    {
     "name": "stdout",
     "output_type": "stream",
     "text": [
      "              precision    recall  f1-score   support\n",
      "\n",
      "           0       0.99      1.00      1.00      2099\n",
      "           1       0.94      0.84      0.88        91\n",
      "\n",
      "    accuracy                           0.99      2190\n",
      "   macro avg       0.97      0.92      0.94      2190\n",
      "weighted avg       0.99      0.99      0.99      2190\n",
      "\n",
      "[[2094    5]\n",
      " [  15   76]]\n"
     ]
    }
   ],
   "source": [
    "# Input the optimal parameters in the model\n",
    "model = RandomForestClassifier(class_weight={0:1,1:12}, criterion='gini',\n",
    "            max_depth=8, max_features='auto',  min_samples_leaf=10, n_estimators=30, n_jobs=-1, random_state=5)\n",
    "\n",
    "# Get results from your model\n",
    "get_model_results(X_train, y_train, X_test, y_test, model)"
   ]
  },
  {
   "cell_type": "markdown",
   "metadata": {},
   "source": [
    "## Ensemble method"
   ]
  },
  {
   "cell_type": "markdown",
   "metadata": {},
   "source": [
    "Combining three algorithms into one model with the VotingClassifier to improve overall performance and detect more fraud. The first model, the Logistic Regression, has a slightly higher recall score than our optimal Random Forest model, but gives a lot more false positives. We'll also add a Decision Tree with balanced weights to it. "
   ]
  },
  {
   "cell_type": "code",
   "execution_count": 231,
   "metadata": {},
   "outputs": [
    {
     "name": "stdout",
     "output_type": "stream",
     "text": [
      "              precision    recall  f1-score   support\n",
      "\n",
      "           0       0.99      0.98      0.99      2099\n",
      "           1       0.66      0.88      0.75        91\n",
      "\n",
      "    accuracy                           0.98      2190\n",
      "   macro avg       0.83      0.93      0.87      2190\n",
      "weighted avg       0.98      0.98      0.98      2190\n",
      "\n",
      "[[2058   41]\n",
      " [  11   80]]\n"
     ]
    }
   ],
   "source": [
    "# Define the Logistic Regression model with weights\n",
    "model = LogisticRegression(class_weight={0:1, 1:15}, random_state=5)\n",
    "\n",
    "# Get the model results\n",
    "get_model_results(X_train, y_train, X_test, y_test, model)"
   ]
  },
  {
   "cell_type": "markdown",
   "metadata": {},
   "source": [
    "#### Combining Three models to improve the performance of Random Forest model"
   ]
  },
  {
   "cell_type": "code",
   "execution_count": 232,
   "metadata": {},
   "outputs": [
    {
     "name": "stdout",
     "output_type": "stream",
     "text": [
      "              precision    recall  f1-score   support\n",
      "\n",
      "           0       0.99      1.00      0.99      2099\n",
      "           1       0.90      0.86      0.88        91\n",
      "\n",
      "    accuracy                           0.99      2190\n",
      "   macro avg       0.95      0.93      0.94      2190\n",
      "weighted avg       0.99      0.99      0.99      2190\n",
      "\n",
      "[[2090    9]\n",
      " [  13   78]]\n"
     ]
    }
   ],
   "source": [
    "# Import the package\n",
    "from sklearn.ensemble import VotingClassifier\n",
    "from sklearn.tree import DecisionTreeClassifier\n",
    "# Define the three classifiers to use in the ensemble\n",
    "clf1 = LogisticRegression(class_weight={0:1, 1:15}, random_state=5)\n",
    "clf2 = RandomForestClassifier(class_weight={0:1, 1:12}, criterion='gini', max_depth=8, max_features='log2',\n",
    "            min_samples_leaf=10, n_estimators=30, n_jobs=-1, random_state=5)\n",
    "clf3 = DecisionTreeClassifier(random_state=5, class_weight=\"balanced\")\n",
    "\n",
    "# Combine the classifiers in the ensemble model\n",
    "ensemble_model = VotingClassifier(estimators=[('lr', clf1), ('rf', clf2), ('dt', clf3)], voting='soft')\n",
    "\n",
    "# Get the results \n",
    "get_model_results(X_train, y_train, X_test, y_test, ensemble_model)"
   ]
  },
  {
   "cell_type": "markdown",
   "metadata": {},
   "source": [
    "#### Adjust weights within the Voting Classifier\n",
    "Voting Classifier improves fraud detection performance model, by combining good aspects from multiple models. \n",
    "By increasing or decreasing weights we can play with how much emphasis you give to a particular model relative to the rest. This comes in handy when a certain model has overall better performance than the rest, but you still want to combine aspects of the others to further improve your results."
   ]
  },
  {
   "cell_type": "raw",
   "metadata": {},
   "source": [
    "We will over weigh the RandomForestClassifier(clf2) with 4 to 1 to the rest of the classifiers.\n"
   ]
  },
  {
   "cell_type": "code",
   "execution_count": 233,
   "metadata": {},
   "outputs": [
    {
     "name": "stdout",
     "output_type": "stream",
     "text": [
      "              precision    recall  f1-score   support\n",
      "\n",
      "           0       0.99      1.00      1.00      2099\n",
      "           1       0.94      0.86      0.90        91\n",
      "\n",
      "    accuracy                           0.99      2190\n",
      "   macro avg       0.97      0.93      0.95      2190\n",
      "weighted avg       0.99      0.99      0.99      2190\n",
      "\n",
      "[[2094    5]\n",
      " [  13   78]]\n"
     ]
    }
   ],
   "source": [
    "ensemble_model = VotingClassifier(estimators=[('lr', clf1), ('rf', clf2), ('gnb', clf3)], voting='soft', weights=[1, 4, 1], flatten_transform=True)\n",
    "get_model_results(X_train, y_train, X_test, y_test, ensemble_model)"
   ]
  },
  {
   "cell_type": "code",
   "execution_count": 234,
   "metadata": {},
   "outputs": [
    {
     "data": {
      "text/html": [
       "<div>\n",
       "<style scoped>\n",
       "    .dataframe tbody tr th:only-of-type {\n",
       "        vertical-align: middle;\n",
       "    }\n",
       "\n",
       "    .dataframe tbody tr th {\n",
       "        vertical-align: top;\n",
       "    }\n",
       "\n",
       "    .dataframe thead th {\n",
       "        text-align: right;\n",
       "    }\n",
       "</style>\n",
       "<table border=\"1\" class=\"dataframe\">\n",
       "  <thead>\n",
       "    <tr style=\"text-align: right;\">\n",
       "      <th>col_0</th>\n",
       "      <th>0</th>\n",
       "      <th>1</th>\n",
       "    </tr>\n",
       "    <tr>\n",
       "      <th>row_0</th>\n",
       "      <th></th>\n",
       "      <th></th>\n",
       "    </tr>\n",
       "  </thead>\n",
       "  <tbody>\n",
       "    <tr>\n",
       "      <th>0</th>\n",
       "      <td>2098</td>\n",
       "      <td>1</td>\n",
       "    </tr>\n",
       "    <tr>\n",
       "      <th>1</th>\n",
       "      <td>17</td>\n",
       "      <td>74</td>\n",
       "    </tr>\n",
       "  </tbody>\n",
       "</table>\n",
       "</div>"
      ],
      "text/plain": [
       "col_0     0   1\n",
       "row_0          \n",
       "0      2098   1\n",
       "1        17  74"
      ]
     },
     "execution_count": 234,
     "metadata": {},
     "output_type": "execute_result"
    }
   ],
   "source": [
    "pd.crosstab(y_test, predicted)"
   ]
  },
  {
   "cell_type": "markdown",
   "metadata": {},
   "source": [
    "We can see that the model results don't improve drastically. We now have 3 less false positives, but now 19 in stead of 18 false negatives, i.e. cases of fraud we are not catching. If we mostly care about catching fraud, and not so much about the false positives, this does actually not improve our model at all, albeit a simple option to try. In the next exercises you'll see how to more smartly tweak your model to focus on reducing false negatives and catch more fraud."
   ]
  },
  {
   "cell_type": "code",
   "execution_count": null,
   "metadata": {},
   "outputs": [],
   "source": []
  },
  {
   "cell_type": "markdown",
   "metadata": {},
   "source": [
    "What's the benefit of the performance metric ROC curve (AUROC) versus Precision and Recall?\n",
    "The three benefits of using Random Forests over Decision Trees:\n",
    "\n",
    "Reduced overfitting: Random Forests build multiple Decision Trees on different subsets of data and features, and then combine them to make predictions. This reduces overfitting, which occurs when a model is too complex and fits noise in the training data instead of the underlying patterns.\n",
    "\n",
    "Better accuracy: By combining multiple Decision Trees, Random Forests are less sensitive to noise and outliers in the data. This can lead to better accuracy and generalization performance.\n",
    "\n",
    "Feature importance: Random Forests can calculate feature importance, which is the contribution of each feature to the model's predictions. This can help identify which features are most important for the problem at hand, and can guide feature selection and engineering."
   ]
  }
 ],
 "metadata": {
  "kernelspec": {
   "display_name": "Python 3 (ipykernel)",
   "language": "python",
   "name": "python3"
  },
  "language_info": {
   "codemirror_mode": {
    "name": "ipython",
    "version": 3
   },
   "file_extension": ".py",
   "mimetype": "text/x-python",
   "name": "python",
   "nbconvert_exporter": "python",
   "pygments_lexer": "ipython3",
   "version": "3.9.13"
  }
 },
 "nbformat": 4,
 "nbformat_minor": 2
}
